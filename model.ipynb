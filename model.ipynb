{
 "cells": [
  {
   "cell_type": "markdown",
   "id": "1f5c6232-2090-4f08-9ffd-3d39c5ae7ec1",
   "metadata": {
    "tags": []
   },
   "source": [
    "# Machine Learning Algorithms Comparison"
   ]
  },
  {
   "cell_type": "code",
   "execution_count": 1,
   "id": "28808e37-43ce-4a75-b5fa-313d23e60293",
   "metadata": {},
   "outputs": [],
   "source": [
    "import pandas as pd\n",
    "import numpy as np"
   ]
  },
  {
   "cell_type": "code",
   "execution_count": 2,
   "id": "a0159b4c-4646-4af9-b041-44a13dfb707a",
   "metadata": {},
   "outputs": [],
   "source": [
    "# preprocessing libraries\n",
    "from sklearn.preprocessing import StandardScaler, OneHotEncoder, LabelEncoder"
   ]
  },
  {
   "cell_type": "code",
   "execution_count": 3,
   "id": "0b166502-5f81-457a-ba03-489faaf01181",
   "metadata": {},
   "outputs": [],
   "source": [
    "# ML and plot libraries\n",
    "from sklearn import metrics\n",
    "from sklearn.model_selection import train_test_split\n",
    "from sklearn.tree import DecisionTreeClassifier\n",
    "from sklearn.naive_bayes import GaussianNB\n",
    "from sklearn.linear_model import LogisticRegression\n",
    "from sklearn.ensemble import GradientBoostingClassifier\n",
    "import matplotlib.pyplot as plt"
   ]
  },
  {
   "cell_type": "code",
   "execution_count": 4,
   "id": "a3d8cf4f-2605-4214-b478-696bfac04477",
   "metadata": {},
   "outputs": [],
   "source": [
    "import warnings\n",
    "warnings.filterwarnings(\"ignore\")"
   ]
  },
  {
   "cell_type": "code",
   "execution_count": 5,
   "id": "09932458-88a7-4e51-a55a-89e98fb44459",
   "metadata": {},
   "outputs": [
    {
     "data": {
      "text/html": [
       "<div>\n",
       "<style scoped>\n",
       "    .dataframe tbody tr th:only-of-type {\n",
       "        vertical-align: middle;\n",
       "    }\n",
       "\n",
       "    .dataframe tbody tr th {\n",
       "        vertical-align: top;\n",
       "    }\n",
       "\n",
       "    .dataframe thead th {\n",
       "        text-align: right;\n",
       "    }\n",
       "</style>\n",
       "<table border=\"1\" class=\"dataframe\">\n",
       "  <thead>\n",
       "    <tr style=\"text-align: right;\">\n",
       "      <th></th>\n",
       "      <th>HeartDisease</th>\n",
       "      <th>BMI</th>\n",
       "      <th>Smoking</th>\n",
       "      <th>AlcoholDrinking</th>\n",
       "      <th>Stroke</th>\n",
       "      <th>PhysicalHealth</th>\n",
       "      <th>MentalHealth</th>\n",
       "      <th>DiffWalking</th>\n",
       "      <th>Sex</th>\n",
       "      <th>AgeCategory</th>\n",
       "      <th>Race</th>\n",
       "      <th>Diabetic</th>\n",
       "      <th>PhysicalActivity</th>\n",
       "      <th>GenHealth</th>\n",
       "      <th>SleepTime</th>\n",
       "      <th>Asthma</th>\n",
       "      <th>KidneyDisease</th>\n",
       "      <th>SkinCancer</th>\n",
       "    </tr>\n",
       "  </thead>\n",
       "  <tbody>\n",
       "    <tr>\n",
       "      <th>0</th>\n",
       "      <td>No</td>\n",
       "      <td>16.60</td>\n",
       "      <td>Yes</td>\n",
       "      <td>No</td>\n",
       "      <td>No</td>\n",
       "      <td>3.0</td>\n",
       "      <td>30.0</td>\n",
       "      <td>No</td>\n",
       "      <td>Female</td>\n",
       "      <td>55-59</td>\n",
       "      <td>White</td>\n",
       "      <td>Yes</td>\n",
       "      <td>Yes</td>\n",
       "      <td>Very good</td>\n",
       "      <td>5.0</td>\n",
       "      <td>Yes</td>\n",
       "      <td>No</td>\n",
       "      <td>Yes</td>\n",
       "    </tr>\n",
       "    <tr>\n",
       "      <th>1</th>\n",
       "      <td>No</td>\n",
       "      <td>20.34</td>\n",
       "      <td>No</td>\n",
       "      <td>No</td>\n",
       "      <td>Yes</td>\n",
       "      <td>0.0</td>\n",
       "      <td>0.0</td>\n",
       "      <td>No</td>\n",
       "      <td>Female</td>\n",
       "      <td>80 or older</td>\n",
       "      <td>White</td>\n",
       "      <td>No</td>\n",
       "      <td>Yes</td>\n",
       "      <td>Very good</td>\n",
       "      <td>7.0</td>\n",
       "      <td>No</td>\n",
       "      <td>No</td>\n",
       "      <td>No</td>\n",
       "    </tr>\n",
       "    <tr>\n",
       "      <th>2</th>\n",
       "      <td>No</td>\n",
       "      <td>26.58</td>\n",
       "      <td>Yes</td>\n",
       "      <td>No</td>\n",
       "      <td>No</td>\n",
       "      <td>20.0</td>\n",
       "      <td>30.0</td>\n",
       "      <td>No</td>\n",
       "      <td>Male</td>\n",
       "      <td>65-69</td>\n",
       "      <td>White</td>\n",
       "      <td>Yes</td>\n",
       "      <td>Yes</td>\n",
       "      <td>Fair</td>\n",
       "      <td>8.0</td>\n",
       "      <td>Yes</td>\n",
       "      <td>No</td>\n",
       "      <td>No</td>\n",
       "    </tr>\n",
       "    <tr>\n",
       "      <th>3</th>\n",
       "      <td>No</td>\n",
       "      <td>24.21</td>\n",
       "      <td>No</td>\n",
       "      <td>No</td>\n",
       "      <td>No</td>\n",
       "      <td>0.0</td>\n",
       "      <td>0.0</td>\n",
       "      <td>No</td>\n",
       "      <td>Female</td>\n",
       "      <td>75-79</td>\n",
       "      <td>White</td>\n",
       "      <td>No</td>\n",
       "      <td>No</td>\n",
       "      <td>Good</td>\n",
       "      <td>6.0</td>\n",
       "      <td>No</td>\n",
       "      <td>No</td>\n",
       "      <td>Yes</td>\n",
       "    </tr>\n",
       "    <tr>\n",
       "      <th>4</th>\n",
       "      <td>No</td>\n",
       "      <td>23.71</td>\n",
       "      <td>No</td>\n",
       "      <td>No</td>\n",
       "      <td>No</td>\n",
       "      <td>28.0</td>\n",
       "      <td>0.0</td>\n",
       "      <td>Yes</td>\n",
       "      <td>Female</td>\n",
       "      <td>40-44</td>\n",
       "      <td>White</td>\n",
       "      <td>No</td>\n",
       "      <td>Yes</td>\n",
       "      <td>Very good</td>\n",
       "      <td>8.0</td>\n",
       "      <td>No</td>\n",
       "      <td>No</td>\n",
       "      <td>No</td>\n",
       "    </tr>\n",
       "  </tbody>\n",
       "</table>\n",
       "</div>"
      ],
      "text/plain": [
       "  HeartDisease    BMI Smoking AlcoholDrinking Stroke  PhysicalHealth  \\\n",
       "0           No  16.60     Yes              No     No             3.0   \n",
       "1           No  20.34      No              No    Yes             0.0   \n",
       "2           No  26.58     Yes              No     No            20.0   \n",
       "3           No  24.21      No              No     No             0.0   \n",
       "4           No  23.71      No              No     No            28.0   \n",
       "\n",
       "   MentalHealth DiffWalking     Sex  AgeCategory   Race Diabetic  \\\n",
       "0          30.0          No  Female        55-59  White      Yes   \n",
       "1           0.0          No  Female  80 or older  White       No   \n",
       "2          30.0          No    Male        65-69  White      Yes   \n",
       "3           0.0          No  Female        75-79  White       No   \n",
       "4           0.0         Yes  Female        40-44  White       No   \n",
       "\n",
       "  PhysicalActivity  GenHealth  SleepTime Asthma KidneyDisease SkinCancer  \n",
       "0              Yes  Very good        5.0    Yes            No        Yes  \n",
       "1              Yes  Very good        7.0     No            No         No  \n",
       "2              Yes       Fair        8.0    Yes            No         No  \n",
       "3               No       Good        6.0     No            No        Yes  \n",
       "4              Yes  Very good        8.0     No            No         No  "
      ]
     },
     "execution_count": 5,
     "metadata": {},
     "output_type": "execute_result"
    }
   ],
   "source": [
    "df = pd.read_csv('heart_2020_cleaned.csv')\n",
    "df.head()"
   ]
  },
  {
   "cell_type": "markdown",
   "id": "6e97dc48-084f-49e5-8c9c-9b8c1a863f99",
   "metadata": {},
   "source": [
    "## Data Preprocessing"
   ]
  },
  {
   "cell_type": "code",
   "execution_count": 6,
   "id": "5ca88eed-0885-4c9a-89b3-87eba93bab21",
   "metadata": {},
   "outputs": [],
   "source": [
    "# standarize numerical columns\n",
    "num_cols = ['BMI', 'PhysicalHealth', 'MentalHealth', 'SleepTime']\n",
    "\n",
    "StandardScaler = StandardScaler()\n",
    "df[num_cols] = StandardScaler.fit_transform(df[num_cols])"
   ]
  },
  {
   "cell_type": "code",
   "execution_count": 7,
   "id": "a8024f43-bdfa-4914-8408-322eec0e60a3",
   "metadata": {},
   "outputs": [],
   "source": [
    "# encode categorial columns\n",
    "enc = OneHotEncoder()\n",
    "\n",
    "cat_cols = df[['AgeCategory', 'Race', 'GenHealth']]\n",
    "encoded_cat_cols = pd.DataFrame(enc.fit_transform(cat_cols).toarray())\n",
    "df = pd.concat([df, encoded_cat_cols], axis=1)\n",
    "df = df.drop(columns=['AgeCategory', 'Race', 'GenHealth'], axis=1)"
   ]
  },
  {
   "cell_type": "code",
   "execution_count": 8,
   "id": "4b5c2b92-4f85-41e4-a9b0-bb92ac689511",
   "metadata": {},
   "outputs": [
    {
     "data": {
      "text/html": [
       "<div>\n",
       "<style scoped>\n",
       "    .dataframe tbody tr th:only-of-type {\n",
       "        vertical-align: middle;\n",
       "    }\n",
       "\n",
       "    .dataframe tbody tr th {\n",
       "        vertical-align: top;\n",
       "    }\n",
       "\n",
       "    .dataframe thead th {\n",
       "        text-align: right;\n",
       "    }\n",
       "</style>\n",
       "<table border=\"1\" class=\"dataframe\">\n",
       "  <thead>\n",
       "    <tr style=\"text-align: right;\">\n",
       "      <th></th>\n",
       "      <th>HeartDisease</th>\n",
       "      <th>BMI</th>\n",
       "      <th>Smoking</th>\n",
       "      <th>AlcoholDrinking</th>\n",
       "      <th>Stroke</th>\n",
       "      <th>PhysicalHealth</th>\n",
       "      <th>MentalHealth</th>\n",
       "      <th>DiffWalking</th>\n",
       "      <th>Sex</th>\n",
       "      <th>Diabetic</th>\n",
       "      <th>...</th>\n",
       "      <th>14</th>\n",
       "      <th>15</th>\n",
       "      <th>16</th>\n",
       "      <th>17</th>\n",
       "      <th>18</th>\n",
       "      <th>19</th>\n",
       "      <th>20</th>\n",
       "      <th>21</th>\n",
       "      <th>22</th>\n",
       "      <th>23</th>\n",
       "    </tr>\n",
       "  </thead>\n",
       "  <tbody>\n",
       "    <tr>\n",
       "      <th>0</th>\n",
       "      <td>0</td>\n",
       "      <td>-1.844750</td>\n",
       "      <td>1</td>\n",
       "      <td>0</td>\n",
       "      <td>0</td>\n",
       "      <td>-0.046751</td>\n",
       "      <td>3.281069</td>\n",
       "      <td>0</td>\n",
       "      <td>0</td>\n",
       "      <td>2</td>\n",
       "      <td>...</td>\n",
       "      <td>0.0</td>\n",
       "      <td>0.0</td>\n",
       "      <td>0.0</td>\n",
       "      <td>0.0</td>\n",
       "      <td>1.0</td>\n",
       "      <td>0.0</td>\n",
       "      <td>0.0</td>\n",
       "      <td>0.0</td>\n",
       "      <td>0.0</td>\n",
       "      <td>1.0</td>\n",
       "    </tr>\n",
       "    <tr>\n",
       "      <th>1</th>\n",
       "      <td>0</td>\n",
       "      <td>-1.256338</td>\n",
       "      <td>0</td>\n",
       "      <td>0</td>\n",
       "      <td>1</td>\n",
       "      <td>-0.424070</td>\n",
       "      <td>-0.490039</td>\n",
       "      <td>0</td>\n",
       "      <td>0</td>\n",
       "      <td>0</td>\n",
       "      <td>...</td>\n",
       "      <td>0.0</td>\n",
       "      <td>0.0</td>\n",
       "      <td>0.0</td>\n",
       "      <td>0.0</td>\n",
       "      <td>1.0</td>\n",
       "      <td>0.0</td>\n",
       "      <td>0.0</td>\n",
       "      <td>0.0</td>\n",
       "      <td>0.0</td>\n",
       "      <td>1.0</td>\n",
       "    </tr>\n",
       "    <tr>\n",
       "      <th>2</th>\n",
       "      <td>0</td>\n",
       "      <td>-0.274603</td>\n",
       "      <td>1</td>\n",
       "      <td>0</td>\n",
       "      <td>0</td>\n",
       "      <td>2.091388</td>\n",
       "      <td>3.281069</td>\n",
       "      <td>0</td>\n",
       "      <td>1</td>\n",
       "      <td>2</td>\n",
       "      <td>...</td>\n",
       "      <td>0.0</td>\n",
       "      <td>0.0</td>\n",
       "      <td>0.0</td>\n",
       "      <td>0.0</td>\n",
       "      <td>1.0</td>\n",
       "      <td>0.0</td>\n",
       "      <td>1.0</td>\n",
       "      <td>0.0</td>\n",
       "      <td>0.0</td>\n",
       "      <td>0.0</td>\n",
       "    </tr>\n",
       "    <tr>\n",
       "      <th>3</th>\n",
       "      <td>0</td>\n",
       "      <td>-0.647473</td>\n",
       "      <td>0</td>\n",
       "      <td>0</td>\n",
       "      <td>0</td>\n",
       "      <td>-0.424070</td>\n",
       "      <td>-0.490039</td>\n",
       "      <td>0</td>\n",
       "      <td>0</td>\n",
       "      <td>0</td>\n",
       "      <td>...</td>\n",
       "      <td>0.0</td>\n",
       "      <td>0.0</td>\n",
       "      <td>0.0</td>\n",
       "      <td>0.0</td>\n",
       "      <td>1.0</td>\n",
       "      <td>0.0</td>\n",
       "      <td>0.0</td>\n",
       "      <td>1.0</td>\n",
       "      <td>0.0</td>\n",
       "      <td>0.0</td>\n",
       "    </tr>\n",
       "    <tr>\n",
       "      <th>4</th>\n",
       "      <td>0</td>\n",
       "      <td>-0.726138</td>\n",
       "      <td>0</td>\n",
       "      <td>0</td>\n",
       "      <td>0</td>\n",
       "      <td>3.097572</td>\n",
       "      <td>-0.490039</td>\n",
       "      <td>1</td>\n",
       "      <td>0</td>\n",
       "      <td>0</td>\n",
       "      <td>...</td>\n",
       "      <td>0.0</td>\n",
       "      <td>0.0</td>\n",
       "      <td>0.0</td>\n",
       "      <td>0.0</td>\n",
       "      <td>1.0</td>\n",
       "      <td>0.0</td>\n",
       "      <td>0.0</td>\n",
       "      <td>0.0</td>\n",
       "      <td>0.0</td>\n",
       "      <td>1.0</td>\n",
       "    </tr>\n",
       "  </tbody>\n",
       "</table>\n",
       "<p>5 rows × 39 columns</p>\n",
       "</div>"
      ],
      "text/plain": [
       "   HeartDisease       BMI  Smoking  AlcoholDrinking  Stroke  PhysicalHealth  \\\n",
       "0             0 -1.844750        1                0       0       -0.046751   \n",
       "1             0 -1.256338        0                0       1       -0.424070   \n",
       "2             0 -0.274603        1                0       0        2.091388   \n",
       "3             0 -0.647473        0                0       0       -0.424070   \n",
       "4             0 -0.726138        0                0       0        3.097572   \n",
       "\n",
       "   MentalHealth  DiffWalking  Sex  Diabetic  ...   14   15   16   17   18  \\\n",
       "0      3.281069            0    0         2  ...  0.0  0.0  0.0  0.0  1.0   \n",
       "1     -0.490039            0    0         0  ...  0.0  0.0  0.0  0.0  1.0   \n",
       "2      3.281069            0    1         2  ...  0.0  0.0  0.0  0.0  1.0   \n",
       "3     -0.490039            0    0         0  ...  0.0  0.0  0.0  0.0  1.0   \n",
       "4     -0.490039            1    0         0  ...  0.0  0.0  0.0  0.0  1.0   \n",
       "\n",
       "    19   20   21   22   23  \n",
       "0  0.0  0.0  0.0  0.0  1.0  \n",
       "1  0.0  0.0  0.0  0.0  1.0  \n",
       "2  0.0  1.0  0.0  0.0  0.0  \n",
       "3  0.0  0.0  1.0  0.0  0.0  \n",
       "4  0.0  0.0  0.0  0.0  1.0  \n",
       "\n",
       "[5 rows x 39 columns]"
      ]
     },
     "execution_count": 8,
     "metadata": {},
     "output_type": "execute_result"
    }
   ],
   "source": [
    "# Encode labels in Yes/No columns\n",
    "label_encoder = LabelEncoder()\n",
    "yn_cols = ['HeartDisease', 'Smoking', 'AlcoholDrinking', 'Stroke',\n",
    "           'DiffWalking', 'Sex', 'Diabetic', 'PhysicalActivity',\n",
    "           'Asthma', 'KidneyDisease', 'SkinCancer']\n",
    "for i in yn_cols:\n",
    "    df[i] = label_encoder.fit_transform(df[i])\n",
    "df.head()"
   ]
  },
  {
   "cell_type": "code",
   "execution_count": 9,
   "id": "cbd96c76-3467-4345-92b5-8e1e97f25eb5",
   "metadata": {},
   "outputs": [],
   "source": [
    "# split data into training and testing set\n",
    "# 30% testing, 70% training\n",
    "features = df.drop(columns=['HeartDisease'], axis=1)\n",
    "label = df['HeartDisease']\n",
    "\n",
    "X_train, X_test, y_train, y_test = train_test_split(features, label,\n",
    "                                                    shuffle=True, test_size=.3)"
   ]
  },
  {
   "cell_type": "code",
   "execution_count": 10,
   "id": "20c12ac5-d898-4cb0-b192-071472822a91",
   "metadata": {},
   "outputs": [
    {
     "name": "stdout",
     "output_type": "stream",
     "text": [
      "Shape of training feature: (223856, 38)\n",
      "Shape of testing feature: (95939, 38)\n",
      "Shape of training label: (223856,)\n",
      "Shape of training label: (95939,)\n"
     ]
    }
   ],
   "source": [
    "# check shapes of training and testing sets\n",
    "print('Shape of training feature:', X_train.shape)\n",
    "print('Shape of testing feature:', X_test.shape)\n",
    "print('Shape of training label:', y_train.shape)\n",
    "print('Shape of training label:', y_test.shape)"
   ]
  },
  {
   "cell_type": "markdown",
   "id": "80fcaac5-2cae-4cbd-8b0c-98833a39ddda",
   "metadata": {},
   "source": [
    "## Models"
   ]
  },
  {
   "cell_type": "code",
   "execution_count": 11,
   "id": "bd13bd8f-f54c-48a8-92a0-3d3975f0e914",
   "metadata": {},
   "outputs": [],
   "source": [
    "def evaluate_model(model, x_test, y_test):\n",
    "    # Predict Test Data\n",
    "    y_pred = model.predict(x_test)\n",
    "\n",
    "    # Calculate accuracy, precision, recall, f1-score, and kappa score\n",
    "    acc = metrics.accuracy_score(y_test, y_pred)\n",
    "    prec = metrics.precision_score(y_test, y_pred)\n",
    "    rec = metrics.recall_score(y_test, y_pred)\n",
    "    f1 = metrics.f1_score(y_test, y_pred)\n",
    "    kappa = metrics.cohen_kappa_score(y_test, y_pred)\n",
    "\n",
    "    # Calculate area under curve (AUC)\n",
    "    y_pred_proba = model.predict_proba(x_test)[::,1]\n",
    "    fpr, tpr, _ = metrics.roc_curve(y_test, y_pred_proba)\n",
    "    auc = metrics.roc_auc_score(y_test, y_pred_proba)\n",
    "\n",
    "    # Display confussion matrix\n",
    "    cm = metrics.confusion_matrix(y_test, y_pred)\n",
    "\n",
    "    return {'acc': acc, 'prec': prec, 'rec': rec, 'f1': f1, 'kappa': kappa, \n",
    "            'fpr': fpr, 'tpr': tpr, 'auc': auc, 'cm': cm}"
   ]
  },
  {
   "cell_type": "markdown",
   "id": "42313766-9f58-40cf-981a-0ef7063027e2",
   "metadata": {},
   "source": [
    "### Decision Tree "
   ]
  },
  {
   "cell_type": "code",
   "execution_count": 12,
   "id": "9821ec61-ed04-499b-9880-6cfed39c3bb2",
   "metadata": {},
   "outputs": [
    {
     "name": "stdout",
     "output_type": "stream",
     "text": [
      "Accuracy: 0.8634340570570883\n",
      "Precision: 0.22846025569760978\n",
      "Recall: 0.25009127418765975\n",
      "F1 Score: 0.23878689286544275\n",
      "Cohens Kappa Score: 0.16394348369676892\n",
      "Area Under Curve: 0.5866558592945319\n",
      "Confusion Matrix:\n",
      " [[80782  6940]\n",
      " [ 6162  2055]]\n"
     ]
    }
   ],
   "source": [
    "clf = DecisionTreeClassifier()\n",
    "\n",
    "# Train\n",
    "clf.fit(X_train, y_train)\n",
    "\n",
    "# Store all of the revelant evaluation metrics\n",
    "clf_result = evaluate_model(clf, X_test, y_test)\n",
    "\n",
    "# Some of the evaluation metrics\n",
    "print('Accuracy:', clf_result['acc'])\n",
    "print('Precision:', clf_result['prec'])\n",
    "print('Recall:', clf_result['rec'])\n",
    "print('F1 Score:', clf_result['f1'])\n",
    "print('Cohens Kappa Score:', clf_result['kappa'])\n",
    "print('Area Under Curve:', clf_result['auc'])\n",
    "print('Confusion Matrix:\\n', clf_result['cm'])"
   ]
  },
  {
   "cell_type": "markdown",
   "id": "9e8807fb-fbe8-41c6-b482-8e51bb95a581",
   "metadata": {},
   "source": [
    "### Naive Bayes Classifier"
   ]
  },
  {
   "cell_type": "code",
   "execution_count": 13,
   "id": "9664b790-18fb-433e-a896-12756448eb91",
   "metadata": {},
   "outputs": [
    {
     "name": "stdout",
     "output_type": "stream",
     "text": [
      "Accuracy: 0.7108683642731319\n",
      "Precision: 0.20036222986247545\n",
      "Recall: 0.7943288304734087\n",
      "F1 Score: 0.3200058833623416\n",
      "Cohens Kappa Score: 0.21224780784470798\n",
      "Area Under Curve: 0.8179563293254875\n",
      "Confusion Matrix:\n",
      " [[61673 26049]\n",
      " [ 1690  6527]]\n"
     ]
    }
   ],
   "source": [
    "gnb = GaussianNB()\n",
    "gnb.fit(X_train, y_train)\n",
    "gnb_result = evaluate_model(gnb, X_test, y_test)\n",
    "\n",
    "print(\"Accuracy:\", gnb_result['acc'])\n",
    "print('Precision:', gnb_result['prec'])\n",
    "print('Recall:', gnb_result['rec'])\n",
    "print('F1 Score:', gnb_result['f1'])\n",
    "print('Cohens Kappa Score:', gnb_result['kappa'])\n",
    "print('Area Under Curve:', gnb_result['auc'])\n",
    "print('Confusion Matrix:\\n', gnb_result['cm'])"
   ]
  },
  {
   "cell_type": "markdown",
   "id": "a8fb49e7-1f80-44ce-8827-1a0480a380ca",
   "metadata": {},
   "source": [
    "### Logistic Regression"
   ]
  },
  {
   "cell_type": "code",
   "execution_count": 14,
   "id": "62f0a3a0-8c01-44fd-b8ef-7ff73425f039",
   "metadata": {},
   "outputs": [
    {
     "name": "stdout",
     "output_type": "stream",
     "text": [
      "Accuracy: 0.9160299773814612\n",
      "Precision: 0.5523747560182173\n",
      "Recall: 0.10332238043081417\n",
      "F1 Score: 0.1740824277219602\n",
      "Cohens Kappa Score: 0.15117060597769605\n",
      "Area Under Curve: 0.83865905382104\n",
      "Confusion Matrix:\n",
      " [[87034   688]\n",
      " [ 7368   849]]\n"
     ]
    }
   ],
   "source": [
    "logreg = LogisticRegression(random_state=0)\n",
    "logreg.fit(X_train, y_train)\n",
    "logreg_result = evaluate_model(logreg, X_test, y_test)\n",
    "\n",
    "print(\"Accuracy:\", logreg_result['acc'])\n",
    "print('Precision:', logreg_result['prec'])\n",
    "print('Recall:', logreg_result['rec'])\n",
    "print('F1 Score:', logreg_result['f1'])\n",
    "print('Cohens Kappa Score:', logreg_result['kappa'])\n",
    "print('Area Under Curve:', logreg_result['auc'])\n",
    "print('Confusion Matrix:\\n', logreg_result['cm'])"
   ]
  },
  {
   "cell_type": "markdown",
   "id": "d86f9a06-0c06-45aa-a25e-355d93d77103",
   "metadata": {},
   "source": [
    "### Gradient Boosting Classifier"
   ]
  },
  {
   "cell_type": "code",
   "execution_count": 15,
   "id": "0fafec7c-ad77-4473-a52c-76f1b9339117",
   "metadata": {},
   "outputs": [
    {
     "name": "stdout",
     "output_type": "stream",
     "text": [
      "Accuracy: 0.9162280198876369\n",
      "Precision: 0.5674662668665668\n",
      "Recall: 0.0921260800778873\n",
      "F1 Score: 0.15851743272955712\n",
      "Cohens Kappa Score: 0.13789133408586007\n",
      "Area Under Curve: 0.840439906637805\n",
      "Confusion Matrix:\n",
      " [[87145   577]\n",
      " [ 7460   757]]\n"
     ]
    }
   ],
   "source": [
    "gbc = GradientBoostingClassifier()\n",
    "gbc.fit(X_train, y_train)\n",
    "gbc_result = evaluate_model(gbc, X_test, y_test)\n",
    "\n",
    "print(\"Accuracy:\", gbc_result['acc'])\n",
    "print('Precision:', gbc_result['prec'])\n",
    "print('Recall:', gbc_result['rec'])\n",
    "print('F1 Score:', gbc_result['f1'])\n",
    "print('Cohens Kappa Score:', gbc_result['kappa'])\n",
    "print('Area Under Curve:', gbc_result['auc'])\n",
    "print('Confusion Matrix:\\n', gbc_result['cm'])"
   ]
  },
  {
   "cell_type": "markdown",
   "id": "e82114fd-ce71-4481-af26-be55e5eb6ca2",
   "metadata": {},
   "source": [
    "## Comparison "
   ]
  },
  {
   "cell_type": "code",
   "execution_count": 19,
   "id": "269fdf76-cb1d-4652-a448-0fa4bc2da32f",
   "metadata": {},
   "outputs": [
    {
     "data": {
      "image/png": "[encoded data removed]",
      "text/plain": [
       "<Figure size 1440x720 with 1 Axes>"
      ]
     },
     "metadata": {
      "needs_background": "light"
     },
     "output_type": "display_data"
    }
   ],
   "source": [
    "# Intitialize figure with two plots\n",
    "fig = plt.figure(figsize=(20, 10))\n",
    "plt.title('Model Comparison', fontsize=14, fontweight='bold')\n",
    "\n",
    "# first plot\n",
    "barWidth = 0.2\n",
    "clf_score = [clf_result['acc'], clf_result['prec'], clf_result['rec'],\n",
    "             clf_result['f1'], clf_result['kappa']]\n",
    "gnb_score = [gnb_result['acc'], gnb_result['prec'], gnb_result['rec'],\n",
    "             gnb_result['f1'], gnb_result['kappa']]\n",
    "logreg_score = [logreg_result['acc'], logreg_result['prec'],\n",
    "                logreg_result['rec'], logreg_result['f1'], logreg_result['kappa']]\n",
    "gbc_score = [gbc_result['acc'], gbc_result['prec'], gbc_result['rec'],\n",
    "             gbc_result['f1'], gbc_result['kappa']]\n",
    "\n",
    "# Set position of bar on X axis\n",
    "br1 = np.arange(len(clf_score))\n",
    "br2 = [x + barWidth for x in br1]\n",
    "br3 = [x + barWidth for x in br2]\n",
    "br4 = [x + barWidth for x in br3]\n",
    "\n",
    "# Make the plot\n",
    "\n",
    "plt.bar(br1, clf_score, width=barWidth, edgecolor='white', \n",
    "        label='Decision Tree')\n",
    "plt.bar(br2, gnb_score, width=barWidth, edgecolor='white',\n",
    "        label='Gaussian Naive Bayes')\n",
    "plt.bar(br3, logreg_score, width=barWidth, edgecolor='white',\n",
    "        label='Logistic Regression')\n",
    "plt.bar(br4, gbc_score, width=barWidth, edgecolor='white',\n",
    "        label='Gradient Boosting')\n",
    "\n",
    "# Configure x and y axis\n",
    "plt.xlabel('Metrics', fontweight='bold')\n",
    "plt.xticks([r + (barWidth*1.5) for r in range(len(clf_score))],\n",
    "           ['Accuracy', 'Precision', 'Recall', 'F1', 'Kappa'])\n",
    "plt.ylabel('Score', fontweight='bold')\n",
    "plt.ylim(0, 1)\n",
    "plt.legend()\n",
    "plt.savefig('figures/model_comparison.png')\n"
   ]
  },
  {
   "cell_type": "code",
   "execution_count": 20,
   "id": "a5380700-1104-48d0-a1d3-04f0d501602d",
   "metadata": {},
   "outputs": [
    {
     "data": {
      "image/png": "[encoded data removed]",
      "text/plain": [
       "<Figure size 432x288 with 1 Axes>"
      ]
     },
     "metadata": {
      "needs_background": "light"
     },
     "output_type": "display_data"
    }
   ],
   "source": [
    "# Comparing ROC Curve\n",
    "plt.plot(clf_result['fpr'], clf_result['tpr'],\n",
    "         label='Decision Tree, auc={: 0.5f}'.format(clf_result['auc']))\n",
    "plt.plot(gnb_result['fpr'], gnb_result['tpr'],\n",
    "         label='Gaussian Naive Bayes, auc={: 0.5f}'.format(gnb_result['auc']))\n",
    "plt.plot(logreg_result['fpr'], logreg_result['tpr'],\n",
    "         label='Logistic Regression, auc={: 0.5f}'.format(logreg_result['auc']))\n",
    "plt.plot(gbc_result['fpr'], gbc_result['tpr'],\n",
    "         label='Gradient Boosting, auc={: 0.5f}'.format(gbc_result['auc']))\n",
    "\n",
    "# Configure x and y axis\n",
    "plt.xlabel('False Positive Rate', fontweight='bold')\n",
    "plt.ylabel('True Positive Rate', fontweight='bold')\n",
    "\n",
    "# Create legend & title\n",
    "plt.title('ROC Curve', fontsize=14, fontweight='bold')\n",
    "plt.legend()\n",
    "plt.savefig('figures/roc_curve.png')\n",
    "plt.show()"
   ]
  },
  {
   "cell_type": "code",
   "execution_count": null,
   "id": "37767239-be73-426a-b627-54ae326e8384",
   "metadata": {},
   "outputs": [],
   "source": []
  }
 ],
 "metadata": {
  "kernelspec": {
   "display_name": "Python 3 (ipykernel)",
   "language": "python",
   "name": "python3"
  },
  "language_info": {
   "codemirror_mode": {
    "name": "ipython",
    "version": 3
   },
   "file_extension": ".py",
   "mimetype": "text/x-python",
   "name": "python",
   "nbconvert_exporter": "python",
   "pygments_lexer": "ipython3",
   "version": "3.9.9"
  }
 },
 "nbformat": 4,
 "nbformat_minor": 5
}
