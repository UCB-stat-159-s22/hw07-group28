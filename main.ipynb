{
 "cells": [
  {
   "cell_type": "markdown",
   "id": "f1a58573-c950-4b8e-a786-aecbb339a72e",
   "metadata": {
    "tags": []
   },
   "source": [
    "# Analysis of the `Personal Key Indicators of Heart Disease` Dataset\n"
   ]
  },
  {
   "cell_type": "markdown",
   "id": "c6852673-7f4d-4c27-a46a-083c09db8447",
   "metadata": {
    "tags": []
   },
   "source": [
    "## Goal of our Analysis\n",
    "---"
   ]
  },
  {
   "cell_type": "markdown",
   "id": "a606424d-3495-4d7a-acdc-073f72402bc9",
   "metadata": {},
   "source": []
  },
  {
   "cell_type": "markdown",
   "id": "ac304eb3-f527-4797-9350-9d76b18e51f8",
   "metadata": {
    "tags": []
   },
   "source": [
    "## About the Dataset\n",
    "---"
   ]
  },
  {
   "cell_type": "markdown",
   "id": "6ce7c6fb-348e-4c44-82c5-740c2e4b35ad",
   "metadata": {},
   "source": [
    "### Where did our data originate from?"
   ]
  },
  {
   "cell_type": "markdown",
   "id": "326c5445-4fb2-4329-839f-b21a54367216",
   "metadata": {},
   "source": [
    "The dataset used in our analysis is derived from the CDC's Behavioral Risk Factor Surveillance System, which is an annual survey that investigates the health status of U.S. residents. Note that we are not working with the raw data gathered from this survey, but with a dataset derived from this survey that has undergone preprocessing by a third-party author."
   ]
  },
  {
   "cell_type": "markdown",
   "id": "cac29edb-eb4d-4241-a947-1e141a6c699a",
   "metadata": {},
   "source": [
    "### What preprocessing did our data undergo?"
   ]
  },
  {
   "cell_type": "markdown",
   "id": "af4f2cd4-010f-4b74-9322-e14618417777",
   "metadata": {},
   "source": [
    "The original CDC survey contained over 300 variables examining a comprehensive spectra of health-related information. The dataset used in our analysis contains only 18 of the original 300 variables. The justification for this reduction is that these 18 variables are known to have direct or indirect influence and heart disease, which is the focus of our analysis. The data was also cleaned to make it usable for machine learning projects."
   ]
  },
  {
   "cell_type": "markdown",
   "id": "bb659c93-1ebc-4761-9bf5-1bda3ec84269",
   "metadata": {},
   "source": [
    "### What are the potential drawbacks of working with this dataset?"
   ]
  },
  {
   "cell_type": "markdown",
   "id": "0144c793-6881-4160-9482-4e32dd91413e",
   "metadata": {},
   "source": []
  },
  {
   "cell_type": "markdown",
   "id": "004d2bf7-f8c5-4945-a51c-b69830226066",
   "metadata": {},
   "source": [
    "### What are the variables in our datset?"
   ]
  },
  {
   "cell_type": "markdown",
   "id": "1f3dcab7-761c-4348-870a-7d79c446f6d0",
   "metadata": {},
   "source": [
    "- `Heart Disease`:\n",
    "- `BMI`:\n",
    "- `Smoking`:\n",
    "- `AlcoholDrinking`:\n",
    "- `Stroke`:\n",
    "- `PhysicalHealth`:\n",
    "- `MentalHealth`:\n",
    "- `DiffWalking`: \n",
    "- `Sex`:\n",
    "- `AgeCategory`:\n",
    "- `Race`:\n",
    "- `Diabetic`:\n",
    "- `PhysicalActivity`:\n",
    "- `GenHealth`:\n",
    "- `Sleep Time`:\n",
    "- `Asthma`:\n",
    "- `KidneyDisease`:\n",
    "- `SkinCancer`:"
   ]
  },
  {
   "cell_type": "markdown",
   "id": "5920f515-9556-4e4c-9b34-15120fa4dbab",
   "metadata": {},
   "source": [
    "## Methods\n",
    "---"
   ]
  },
  {
   "cell_type": "markdown",
   "id": "6fd892e6-5cf5-4443-a49a-396204f44304",
   "metadata": {},
   "source": []
  },
  {
   "cell_type": "markdown",
   "id": "0490ef40-27a1-463b-a14c-96f5f71aa146",
   "metadata": {},
   "source": [
    "## Results\n",
    "---"
   ]
  },
  {
   "cell_type": "markdown",
   "id": "54bb5deb-02ec-41c3-a9ba-a55d69cbf346",
   "metadata": {},
   "source": []
  },
  {
   "cell_type": "markdown",
   "id": "d7b71f81-f721-4c9a-917a-b6a922809877",
   "metadata": {},
   "source": [
    "## Conclusion\n",
    "---"
   ]
  },
  {
   "cell_type": "markdown",
   "id": "4952fbc0-c1d3-4a83-a61d-77dc3c1540cd",
   "metadata": {},
   "source": []
  }
 ],
 "metadata": {
  "kernelspec": {
   "display_name": "Python 3 (ipykernel)",
   "language": "python",
   "name": "python3"
  },
  "language_info": {
   "codemirror_mode": {
    "name": "ipython",
    "version": 3
   },
   "file_extension": ".py",
   "mimetype": "text/x-python",
   "name": "python",
   "nbconvert_exporter": "python",
   "pygments_lexer": "ipython3",
   "version": "3.9.9"
  }
 },
 "nbformat": 4,
 "nbformat_minor": 5
}
