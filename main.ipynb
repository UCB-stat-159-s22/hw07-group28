{
 "cells": [
  {
   "cell_type": "markdown",
   "id": "f1a58573-c950-4b8e-a786-aecbb339a72e",
   "metadata": {},
   "source": [
    "# Analysis of Key Indicators of Heart Disease Dataset\n",
    "---"
   ]
  },
  {
   "cell_type": "markdown",
   "id": "ac304eb3-f527-4797-9350-9d76b18e51f8",
   "metadata": {},
   "source": [
    "## About the Dataset\n",
    "---"
   ]
  },
  {
   "cell_type": "markdown",
   "id": "6ce7c6fb-348e-4c44-82c5-740c2e4b35ad",
   "metadata": {},
   "source": [
    "### Where did our data originate from?"
   ]
  },
  {
   "cell_type": "markdown",
   "id": "326c5445-4fb2-4329-839f-b21a54367216",
   "metadata": {},
   "source": [
    "The data used in our analysis is derived from the CDC's Behavioral Risk Factor Surveillance System, which is an annual survey that investigates the health status of U.S. residents. "
   ]
  },
  {
   "cell_type": "markdown",
   "id": "cac29edb-eb4d-4241-a947-1e141a6c699a",
   "metadata": {},
   "source": [
    "### What preprocessing did our data undergo?"
   ]
  },
  {
   "cell_type": "markdown",
   "id": "af4f2cd4-010f-4b74-9322-e14618417777",
   "metadata": {},
   "source": []
  }
 ],
 "metadata": {
  "kernelspec": {
   "display_name": "Python 3 (ipykernel)",
   "language": "python",
   "name": "python3"
  },
  "language_info": {
   "codemirror_mode": {
    "name": "ipython",
    "version": 3
   },
   "file_extension": ".py",
   "mimetype": "text/x-python",
   "name": "python",
   "nbconvert_exporter": "python",
   "pygments_lexer": "ipython3",
   "version": "3.9.9"
  }
 },
 "nbformat": 4,
 "nbformat_minor": 5
}
