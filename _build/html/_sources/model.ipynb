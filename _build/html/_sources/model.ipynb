{
 "cells": [
  {
   "cell_type": "markdown",
   "id": "1f5c6232-2090-4f08-9ffd-3d39c5ae7ec1",
   "metadata": {
    "tags": []
   },
   "source": [
    "# Machine Learning Algorithms Comparison"
   ]
  },
  {
   "cell_type": "code",
   "execution_count": 86,
   "id": "28808e37-43ce-4a75-b5fa-313d23e60293",
   "metadata": {},
   "outputs": [],
   "source": [
    "import pandas as pd\n",
    "import numpy as np"
   ]
  },
  {
   "cell_type": "code",
   "execution_count": 87,
   "id": "a0159b4c-4646-4af9-b041-44a13dfb707a",
   "metadata": {},
   "outputs": [],
   "source": [
    "#preprocessing and feature selection libraries\n",
    "from sklearn.preprocessing import StandardScaler, LabelEncoder\n",
    "from sklearn.preprocessing import MinMaxScaler\n",
    "from sklearn.feature_selection import SelectFromModel, SelectKBest, RFE, chi2\n",
    "from sklearn.ensemble import RandomForestClassifier"
   ]
  },
  {
   "cell_type": "code",
   "execution_count": 88,
   "id": "0b166502-5f81-457a-ba03-489faaf01181",
   "metadata": {},
   "outputs": [],
   "source": [
    "# ML and plot libraries\n",
    "from sklearn import metrics\n",
    "from sklearn.model_selection import train_test_split\n",
    "from sklearn.tree import DecisionTreeClassifier\n",
    "from sklearn.naive_bayes import GaussianNB\n",
    "from sklearn.linear_model import LogisticRegression\n",
    "from sklearn.ensemble import GradientBoostingClassifier\n",
    "import matplotlib.pyplot as plt"
   ]
  },
  {
   "cell_type": "code",
   "execution_count": 89,
   "id": "a3d8cf4f-2605-4214-b478-696bfac04477",
   "metadata": {},
   "outputs": [],
   "source": [
    "import warnings\n",
    "warnings.filterwarnings(\"ignore\")"
   ]
  },
  {
   "cell_type": "code",
   "execution_count": 90,
   "id": "09932458-88a7-4e51-a55a-89e98fb44459",
   "metadata": {},
   "outputs": [
    {
     "data": {
      "text/html": [
       "<div>\n",
       "<style scoped>\n",
       "    .dataframe tbody tr th:only-of-type {\n",
       "        vertical-align: middle;\n",
       "    }\n",
       "\n",
       "    .dataframe tbody tr th {\n",
       "        vertical-align: top;\n",
       "    }\n",
       "\n",
       "    .dataframe thead th {\n",
       "        text-align: right;\n",
       "    }\n",
       "</style>\n",
       "<table border=\"1\" class=\"dataframe\">\n",
       "  <thead>\n",
       "    <tr style=\"text-align: right;\">\n",
       "      <th></th>\n",
       "      <th>HeartDisease</th>\n",
       "      <th>BMI</th>\n",
       "      <th>Smoking</th>\n",
       "      <th>AlcoholDrinking</th>\n",
       "      <th>Stroke</th>\n",
       "      <th>PhysicalHealth</th>\n",
       "      <th>MentalHealth</th>\n",
       "      <th>DiffWalking</th>\n",
       "      <th>Sex</th>\n",
       "      <th>AgeCategory</th>\n",
       "      <th>Race</th>\n",
       "      <th>Diabetic</th>\n",
       "      <th>PhysicalActivity</th>\n",
       "      <th>GenHealth</th>\n",
       "      <th>SleepTime</th>\n",
       "      <th>Asthma</th>\n",
       "      <th>KidneyDisease</th>\n",
       "      <th>SkinCancer</th>\n",
       "    </tr>\n",
       "  </thead>\n",
       "  <tbody>\n",
       "    <tr>\n",
       "      <th>0</th>\n",
       "      <td>No</td>\n",
       "      <td>16.60</td>\n",
       "      <td>Yes</td>\n",
       "      <td>No</td>\n",
       "      <td>No</td>\n",
       "      <td>3.0</td>\n",
       "      <td>30.0</td>\n",
       "      <td>No</td>\n",
       "      <td>Female</td>\n",
       "      <td>55-59</td>\n",
       "      <td>White</td>\n",
       "      <td>Yes</td>\n",
       "      <td>Yes</td>\n",
       "      <td>Very good</td>\n",
       "      <td>5.0</td>\n",
       "      <td>Yes</td>\n",
       "      <td>No</td>\n",
       "      <td>Yes</td>\n",
       "    </tr>\n",
       "    <tr>\n",
       "      <th>1</th>\n",
       "      <td>No</td>\n",
       "      <td>20.34</td>\n",
       "      <td>No</td>\n",
       "      <td>No</td>\n",
       "      <td>Yes</td>\n",
       "      <td>0.0</td>\n",
       "      <td>0.0</td>\n",
       "      <td>No</td>\n",
       "      <td>Female</td>\n",
       "      <td>80 or older</td>\n",
       "      <td>White</td>\n",
       "      <td>No</td>\n",
       "      <td>Yes</td>\n",
       "      <td>Very good</td>\n",
       "      <td>7.0</td>\n",
       "      <td>No</td>\n",
       "      <td>No</td>\n",
       "      <td>No</td>\n",
       "    </tr>\n",
       "    <tr>\n",
       "      <th>2</th>\n",
       "      <td>No</td>\n",
       "      <td>26.58</td>\n",
       "      <td>Yes</td>\n",
       "      <td>No</td>\n",
       "      <td>No</td>\n",
       "      <td>20.0</td>\n",
       "      <td>30.0</td>\n",
       "      <td>No</td>\n",
       "      <td>Male</td>\n",
       "      <td>65-69</td>\n",
       "      <td>White</td>\n",
       "      <td>Yes</td>\n",
       "      <td>Yes</td>\n",
       "      <td>Fair</td>\n",
       "      <td>8.0</td>\n",
       "      <td>Yes</td>\n",
       "      <td>No</td>\n",
       "      <td>No</td>\n",
       "    </tr>\n",
       "    <tr>\n",
       "      <th>3</th>\n",
       "      <td>No</td>\n",
       "      <td>24.21</td>\n",
       "      <td>No</td>\n",
       "      <td>No</td>\n",
       "      <td>No</td>\n",
       "      <td>0.0</td>\n",
       "      <td>0.0</td>\n",
       "      <td>No</td>\n",
       "      <td>Female</td>\n",
       "      <td>75-79</td>\n",
       "      <td>White</td>\n",
       "      <td>No</td>\n",
       "      <td>No</td>\n",
       "      <td>Good</td>\n",
       "      <td>6.0</td>\n",
       "      <td>No</td>\n",
       "      <td>No</td>\n",
       "      <td>Yes</td>\n",
       "    </tr>\n",
       "    <tr>\n",
       "      <th>4</th>\n",
       "      <td>No</td>\n",
       "      <td>23.71</td>\n",
       "      <td>No</td>\n",
       "      <td>No</td>\n",
       "      <td>No</td>\n",
       "      <td>28.0</td>\n",
       "      <td>0.0</td>\n",
       "      <td>Yes</td>\n",
       "      <td>Female</td>\n",
       "      <td>40-44</td>\n",
       "      <td>White</td>\n",
       "      <td>No</td>\n",
       "      <td>Yes</td>\n",
       "      <td>Very good</td>\n",
       "      <td>8.0</td>\n",
       "      <td>No</td>\n",
       "      <td>No</td>\n",
       "      <td>No</td>\n",
       "    </tr>\n",
       "  </tbody>\n",
       "</table>\n",
       "</div>"
      ],
      "text/plain": [
       "  HeartDisease    BMI Smoking AlcoholDrinking Stroke  PhysicalHealth  \\\n",
       "0           No  16.60     Yes              No     No             3.0   \n",
       "1           No  20.34      No              No    Yes             0.0   \n",
       "2           No  26.58     Yes              No     No            20.0   \n",
       "3           No  24.21      No              No     No             0.0   \n",
       "4           No  23.71      No              No     No            28.0   \n",
       "\n",
       "   MentalHealth DiffWalking     Sex  AgeCategory   Race Diabetic  \\\n",
       "0          30.0          No  Female        55-59  White      Yes   \n",
       "1           0.0          No  Female  80 or older  White       No   \n",
       "2          30.0          No    Male        65-69  White      Yes   \n",
       "3           0.0          No  Female        75-79  White       No   \n",
       "4           0.0         Yes  Female        40-44  White       No   \n",
       "\n",
       "  PhysicalActivity  GenHealth  SleepTime Asthma KidneyDisease SkinCancer  \n",
       "0              Yes  Very good        5.0    Yes            No        Yes  \n",
       "1              Yes  Very good        7.0     No            No         No  \n",
       "2              Yes       Fair        8.0    Yes            No         No  \n",
       "3               No       Good        6.0     No            No        Yes  \n",
       "4              Yes  Very good        8.0     No            No         No  "
      ]
     },
     "execution_count": 90,
     "metadata": {},
     "output_type": "execute_result"
    }
   ],
   "source": [
    "df = pd.read_csv('data/heart_2020_cleaned.csv')\n",
    "df.head()"
   ]
  },
  {
   "cell_type": "markdown",
   "id": "6e97dc48-084f-49e5-8c9c-9b8c1a863f99",
   "metadata": {},
   "source": [
    "## Data Preprocessing"
   ]
  },
  {
   "cell_type": "code",
   "execution_count": 91,
   "id": "5ca88eed-0885-4c9a-89b3-87eba93bab21",
   "metadata": {},
   "outputs": [],
   "source": [
    "# standarize numerical columns\n",
    "num_cols = ['BMI', 'PhysicalHealth', 'MentalHealth', 'SleepTime']\n",
    "\n",
    "StandardScaler = StandardScaler()\n",
    "df[num_cols] = StandardScaler.fit_transform(df[num_cols])"
   ]
  },
  {
   "cell_type": "code",
   "execution_count": 92,
   "id": "4b5c2b92-4f85-41e4-a9b0-bb92ac689511",
   "metadata": {},
   "outputs": [
    {
     "data": {
      "text/html": [
       "<div>\n",
       "<style scoped>\n",
       "    .dataframe tbody tr th:only-of-type {\n",
       "        vertical-align: middle;\n",
       "    }\n",
       "\n",
       "    .dataframe tbody tr th {\n",
       "        vertical-align: top;\n",
       "    }\n",
       "\n",
       "    .dataframe thead th {\n",
       "        text-align: right;\n",
       "    }\n",
       "</style>\n",
       "<table border=\"1\" class=\"dataframe\">\n",
       "  <thead>\n",
       "    <tr style=\"text-align: right;\">\n",
       "      <th></th>\n",
       "      <th>HeartDisease</th>\n",
       "      <th>BMI</th>\n",
       "      <th>Smoking</th>\n",
       "      <th>AlcoholDrinking</th>\n",
       "      <th>Stroke</th>\n",
       "      <th>PhysicalHealth</th>\n",
       "      <th>MentalHealth</th>\n",
       "      <th>DiffWalking</th>\n",
       "      <th>Sex</th>\n",
       "      <th>AgeCategory</th>\n",
       "      <th>Race</th>\n",
       "      <th>Diabetic</th>\n",
       "      <th>PhysicalActivity</th>\n",
       "      <th>GenHealth</th>\n",
       "      <th>SleepTime</th>\n",
       "      <th>Asthma</th>\n",
       "      <th>KidneyDisease</th>\n",
       "      <th>SkinCancer</th>\n",
       "    </tr>\n",
       "  </thead>\n",
       "  <tbody>\n",
       "    <tr>\n",
       "      <th>0</th>\n",
       "      <td>0</td>\n",
       "      <td>-1.844750</td>\n",
       "      <td>1</td>\n",
       "      <td>0</td>\n",
       "      <td>0</td>\n",
       "      <td>-0.046751</td>\n",
       "      <td>3.281069</td>\n",
       "      <td>0</td>\n",
       "      <td>0</td>\n",
       "      <td>7</td>\n",
       "      <td>5</td>\n",
       "      <td>2</td>\n",
       "      <td>1</td>\n",
       "      <td>4</td>\n",
       "      <td>-1.460354</td>\n",
       "      <td>1</td>\n",
       "      <td>0</td>\n",
       "      <td>1</td>\n",
       "    </tr>\n",
       "    <tr>\n",
       "      <th>1</th>\n",
       "      <td>0</td>\n",
       "      <td>-1.256338</td>\n",
       "      <td>0</td>\n",
       "      <td>0</td>\n",
       "      <td>1</td>\n",
       "      <td>-0.424070</td>\n",
       "      <td>-0.490039</td>\n",
       "      <td>0</td>\n",
       "      <td>0</td>\n",
       "      <td>12</td>\n",
       "      <td>5</td>\n",
       "      <td>0</td>\n",
       "      <td>1</td>\n",
       "      <td>4</td>\n",
       "      <td>-0.067601</td>\n",
       "      <td>0</td>\n",
       "      <td>0</td>\n",
       "      <td>0</td>\n",
       "    </tr>\n",
       "    <tr>\n",
       "      <th>2</th>\n",
       "      <td>0</td>\n",
       "      <td>-0.274603</td>\n",
       "      <td>1</td>\n",
       "      <td>0</td>\n",
       "      <td>0</td>\n",
       "      <td>2.091388</td>\n",
       "      <td>3.281069</td>\n",
       "      <td>0</td>\n",
       "      <td>1</td>\n",
       "      <td>9</td>\n",
       "      <td>5</td>\n",
       "      <td>2</td>\n",
       "      <td>1</td>\n",
       "      <td>1</td>\n",
       "      <td>0.628776</td>\n",
       "      <td>1</td>\n",
       "      <td>0</td>\n",
       "      <td>0</td>\n",
       "    </tr>\n",
       "    <tr>\n",
       "      <th>3</th>\n",
       "      <td>0</td>\n",
       "      <td>-0.647473</td>\n",
       "      <td>0</td>\n",
       "      <td>0</td>\n",
       "      <td>0</td>\n",
       "      <td>-0.424070</td>\n",
       "      <td>-0.490039</td>\n",
       "      <td>0</td>\n",
       "      <td>0</td>\n",
       "      <td>11</td>\n",
       "      <td>5</td>\n",
       "      <td>0</td>\n",
       "      <td>0</td>\n",
       "      <td>2</td>\n",
       "      <td>-0.763977</td>\n",
       "      <td>0</td>\n",
       "      <td>0</td>\n",
       "      <td>1</td>\n",
       "    </tr>\n",
       "    <tr>\n",
       "      <th>4</th>\n",
       "      <td>0</td>\n",
       "      <td>-0.726138</td>\n",
       "      <td>0</td>\n",
       "      <td>0</td>\n",
       "      <td>0</td>\n",
       "      <td>3.097572</td>\n",
       "      <td>-0.490039</td>\n",
       "      <td>1</td>\n",
       "      <td>0</td>\n",
       "      <td>4</td>\n",
       "      <td>5</td>\n",
       "      <td>0</td>\n",
       "      <td>1</td>\n",
       "      <td>4</td>\n",
       "      <td>0.628776</td>\n",
       "      <td>0</td>\n",
       "      <td>0</td>\n",
       "      <td>0</td>\n",
       "    </tr>\n",
       "  </tbody>\n",
       "</table>\n",
       "</div>"
      ],
      "text/plain": [
       "   HeartDisease       BMI  Smoking  AlcoholDrinking  Stroke  PhysicalHealth  \\\n",
       "0             0 -1.844750        1                0       0       -0.046751   \n",
       "1             0 -1.256338        0                0       1       -0.424070   \n",
       "2             0 -0.274603        1                0       0        2.091388   \n",
       "3             0 -0.647473        0                0       0       -0.424070   \n",
       "4             0 -0.726138        0                0       0        3.097572   \n",
       "\n",
       "   MentalHealth  DiffWalking  Sex  AgeCategory  Race  Diabetic  \\\n",
       "0      3.281069            0    0            7     5         2   \n",
       "1     -0.490039            0    0           12     5         0   \n",
       "2      3.281069            0    1            9     5         2   \n",
       "3     -0.490039            0    0           11     5         0   \n",
       "4     -0.490039            1    0            4     5         0   \n",
       "\n",
       "   PhysicalActivity  GenHealth  SleepTime  Asthma  KidneyDisease  SkinCancer  \n",
       "0                 1          4  -1.460354       1              0           1  \n",
       "1                 1          4  -0.067601       0              0           0  \n",
       "2                 1          1   0.628776       1              0           0  \n",
       "3                 0          2  -0.763977       0              0           1  \n",
       "4                 1          4   0.628776       0              0           0  "
      ]
     },
     "execution_count": 92,
     "metadata": {},
     "output_type": "execute_result"
    }
   ],
   "source": [
    "# Encode labels in Yes/No columns\n",
    "label_encoder = LabelEncoder()\n",
    "cat_cols = ['HeartDisease', 'Smoking', 'AlcoholDrinking', 'Stroke',\n",
    "            'DiffWalking', 'Sex','Diabetic', 'PhysicalActivity',\n",
    "            'Asthma', 'KidneyDisease', 'SkinCancer',\n",
    "            'AgeCategory', 'Race', 'GenHealth']\n",
    "for i in cat_cols:\n",
    "    df[i] = label_encoder.fit_transform(df[i])\n",
    "df.head()"
   ]
  },
  {
   "cell_type": "code",
   "execution_count": 93,
   "id": "cbd96c76-3467-4345-92b5-8e1e97f25eb5",
   "metadata": {},
   "outputs": [],
   "source": [
    "# split data into training and testing set\n",
    "# 30% testing, 70% training\n",
    "features = df.drop(columns=['HeartDisease'], axis=1)\n",
    "label = df['HeartDisease']\n",
    "X_train, X_test, y_train, y_test = train_test_split(features, label,\n",
    "                                                    shuffle=True, test_size=.3)"
   ]
  },
  {
   "cell_type": "code",
   "execution_count": 94,
   "id": "20c12ac5-d898-4cb0-b192-071472822a91",
   "metadata": {},
   "outputs": [
    {
     "name": "stdout",
     "output_type": "stream",
     "text": [
      "Shape of training feature: (223856, 17)\n",
      "Shape of testing feature: (95939, 17)\n",
      "Shape of training label: (223856,)\n",
      "Shape of training label: (95939,)\n"
     ]
    }
   ],
   "source": [
    "# check shapes of training and testing sets\n",
    "print('Shape of training feature:', X_train.shape)\n",
    "print('Shape of testing feature:', X_test.shape)\n",
    "print('Shape of training label:', y_train.shape)\n",
    "print('Shape of training label:', y_test.shape)"
   ]
  },
  {
   "cell_type": "markdown",
   "id": "ffdad8a9-a372-4712-aed8-1c7f48890192",
   "metadata": {
    "tags": []
   },
   "source": [
    "## Features Selection"
   ]
  },
  {
   "cell_type": "code",
   "execution_count": 95,
   "id": "8bde87b3-b7c5-4436-9d11-f6249f0ff76f",
   "metadata": {},
   "outputs": [
    {
     "data": {
      "text/plain": [
       "17"
      ]
     },
     "execution_count": 95,
     "metadata": {},
     "output_type": "execute_result"
    }
   ],
   "source": [
    "feature_name = list(X_train.columns)\n",
    "max_feats = len(feature_name) # maximum number of features that could be chosen\n",
    "max_feats"
   ]
  },
  {
   "cell_type": "code",
   "execution_count": 96,
   "id": "938f60b7-8489-46f8-a098-65c92573fe20",
   "metadata": {},
   "outputs": [],
   "source": [
    "X_norm = MinMaxScaler().fit_transform(X_train)"
   ]
  },
  {
   "cell_type": "markdown",
   "id": "832941d0-214b-40e2-be76-c07343e33b85",
   "metadata": {
    "tags": []
   },
   "source": [
    "### Embedded Method"
   ]
  },
  {
   "cell_type": "code",
   "execution_count": 97,
   "id": "adb0d69e-19be-4ef3-a434-1ccc9db82a2c",
   "metadata": {},
   "outputs": [
    {
     "data": {
      "text/plain": [
       "['BMI', 'PhysicalHealth', 'MentalHealth', 'AgeCategory', 'SleepTime']"
      ]
     },
     "execution_count": 97,
     "metadata": {},
     "output_type": "execute_result"
    }
   ],
   "source": [
    "# Random Forest to select features based on their importance\n",
    "embeded_rf_selector = SelectFromModel(RandomForestClassifier(n_estimators=100), \n",
    "                                      max_features=max_feats)\n",
    "embeded_rf_selector.fit(X_train, y_train)\n",
    "\n",
    "embeded_rf_support = embeded_rf_selector.get_support()\n",
    "embeded_rf_feature = X_train.loc[:, embeded_rf_support].columns.tolist()\n",
    "embeded_rf_feature"
   ]
  },
  {
   "cell_type": "code",
   "execution_count": 98,
   "id": "2bbc3dec-0688-414a-8322-becb57a6691a",
   "metadata": {},
   "outputs": [
    {
     "data": {
      "text/plain": [
       "['BMI', 'Stroke', 'Sex', 'AgeCategory', 'Diabetic', 'SleepTime']"
      ]
     },
     "execution_count": 98,
     "metadata": {},
     "output_type": "execute_result"
    }
   ],
   "source": [
    "embeded_lr_selector = SelectFromModel(LogisticRegression(penalty=\"l2\"),\n",
    "                                      max_features=max_feats)\n",
    "embeded_lr_selector.fit(X_norm, y_train)\n",
    "\n",
    "embeded_lr_support = embeded_lr_selector.get_support()\n",
    "embeded_lr_feature = X_train.loc[:, embeded_lr_support].columns.tolist()\n",
    "embeded_lr_feature"
   ]
  },
  {
   "cell_type": "markdown",
   "id": "ac51decf-1844-418b-b178-870a4f47841c",
   "metadata": {
    "tags": []
   },
   "source": [
    "### Filter Method"
   ]
  },
  {
   "cell_type": "code",
   "execution_count": 99,
   "id": "fe0e57ca-ef41-4809-8d7e-7e892715331c",
   "metadata": {},
   "outputs": [
    {
     "data": {
      "text/plain": [
       "['BMI',\n",
       " 'Smoking',\n",
       " 'AlcoholDrinking',\n",
       " 'Stroke',\n",
       " 'PhysicalHealth',\n",
       " 'MentalHealth',\n",
       " 'DiffWalking',\n",
       " 'Sex',\n",
       " 'AgeCategory',\n",
       " 'Race',\n",
       " 'Diabetic',\n",
       " 'PhysicalActivity',\n",
       " 'GenHealth',\n",
       " 'SleepTime',\n",
       " 'Asthma',\n",
       " 'KidneyDisease',\n",
       " 'SkinCancer']"
      ]
     },
     "execution_count": 99,
     "metadata": {},
     "output_type": "execute_result"
    }
   ],
   "source": [
    "# Chi Squared for Feature Selection\n",
    "chi_selector = SelectKBest(chi2, k=max_feats)\n",
    "chi_selector.fit(X_norm, y_train)\n",
    "chi_support = chi_selector.get_support()\n",
    "chi_feature = X_train.loc[:,chi_support].columns.tolist()\n",
    "chi_feature"
   ]
  },
  {
   "cell_type": "code",
   "execution_count": 100,
   "id": "a7cfe23e-f6e5-4b20-849a-56b1b271dc67",
   "metadata": {},
   "outputs": [
    {
     "data": {
      "text/plain": [
       "['SleepTime',\n",
       " 'GenHealth',\n",
       " 'MentalHealth',\n",
       " 'AlcoholDrinking',\n",
       " 'Race',\n",
       " 'Asthma',\n",
       " 'BMI',\n",
       " 'Sex',\n",
       " 'SkinCancer',\n",
       " 'PhysicalActivity',\n",
       " 'Smoking',\n",
       " 'KidneyDisease',\n",
       " 'PhysicalHealth',\n",
       " 'Diabetic',\n",
       " 'Stroke',\n",
       " 'DiffWalking',\n",
       " 'AgeCategory']"
      ]
     },
     "execution_count": 100,
     "metadata": {},
     "output_type": "execute_result"
    }
   ],
   "source": [
    "def cor_selector(X, y,num_feats):\n",
    "    cor_list = []\n",
    "    feature_name = X.columns.tolist()\n",
    "    # calculate the correlation with y for each feature\n",
    "    for i in X.columns.tolist():\n",
    "        cor = np.corrcoef(X[i], y)[0, 1]\n",
    "        cor_list.append(cor)\n",
    "    # replace NaN with 0\n",
    "    cor_list = [0 if np.isnan(i) else i for i in cor_list]\n",
    "    # feature name\n",
    "    cor_feature = X.iloc[:,np.argsort(np.abs(cor_list))[-num_feats:]].columns.tolist()\n",
    "    # feature selection? 0 for not select, 1 for select\n",
    "    cor_support = [True if i in cor_feature else False for i in feature_name]\n",
    "    return cor_support, cor_feature\n",
    "\n",
    "\n",
    "cor_support, cor_feature = cor_selector(X_train, y_train, max_feats)\n",
    "cor_feature"
   ]
  },
  {
   "cell_type": "markdown",
   "id": "8c5cf64d-af6d-41d6-892b-c9ca0f18dfbd",
   "metadata": {
    "tags": []
   },
   "source": [
    "### Wrapper Method "
   ]
  },
  {
   "cell_type": "code",
   "execution_count": 101,
   "id": "effe8ae2-9a28-467f-af7d-eff527e25998",
   "metadata": {},
   "outputs": [
    {
     "data": {
      "text/plain": [
       "['BMI',\n",
       " 'Smoking',\n",
       " 'AlcoholDrinking',\n",
       " 'Stroke',\n",
       " 'PhysicalHealth',\n",
       " 'MentalHealth',\n",
       " 'DiffWalking',\n",
       " 'Sex',\n",
       " 'AgeCategory',\n",
       " 'Race',\n",
       " 'Diabetic',\n",
       " 'PhysicalActivity',\n",
       " 'GenHealth',\n",
       " 'SleepTime',\n",
       " 'Asthma',\n",
       " 'KidneyDisease',\n",
       " 'SkinCancer']"
      ]
     },
     "execution_count": 101,
     "metadata": {},
     "output_type": "execute_result"
    }
   ],
   "source": [
    "rfe_selector = RFE(estimator=LogisticRegression(),\n",
    "                   n_features_to_select=max_feats, step=10, verbose=5)\n",
    "rfe_selector.fit(X_norm, y_train)\n",
    "rfe_support = rfe_selector.get_support()\n",
    "rfe_feature = X_train.loc[:, rfe_support].columns.tolist()\n",
    "rfe_feature"
   ]
  },
  {
   "cell_type": "markdown",
   "id": "88286fb1-976e-42e4-8cdf-3cabe6fb8b0c",
   "metadata": {
    "tags": []
   },
   "source": [
    "### Selected Features"
   ]
  },
  {
   "cell_type": "code",
   "execution_count": 102,
   "id": "ea2c557d-ac64-4ec1-bbe5-5a0375c3a261",
   "metadata": {},
   "outputs": [
    {
     "data": {
      "text/html": [
       "<div>\n",
       "<style scoped>\n",
       "    .dataframe tbody tr th:only-of-type {\n",
       "        vertical-align: middle;\n",
       "    }\n",
       "\n",
       "    .dataframe tbody tr th {\n",
       "        vertical-align: top;\n",
       "    }\n",
       "\n",
       "    .dataframe thead th {\n",
       "        text-align: right;\n",
       "    }\n",
       "</style>\n",
       "<table border=\"1\" class=\"dataframe\">\n",
       "  <thead>\n",
       "    <tr style=\"text-align: right;\">\n",
       "      <th></th>\n",
       "      <th>Feature</th>\n",
       "      <th>Random Forest</th>\n",
       "      <th>Logistic</th>\n",
       "      <th>Chi-2</th>\n",
       "      <th>Pearson</th>\n",
       "      <th>RFE</th>\n",
       "      <th>Total</th>\n",
       "    </tr>\n",
       "  </thead>\n",
       "  <tbody>\n",
       "    <tr>\n",
       "      <th>1</th>\n",
       "      <td>SleepTime</td>\n",
       "      <td>True</td>\n",
       "      <td>True</td>\n",
       "      <td>True</td>\n",
       "      <td>True</td>\n",
       "      <td>True</td>\n",
       "      <td>5</td>\n",
       "    </tr>\n",
       "    <tr>\n",
       "      <th>2</th>\n",
       "      <td>BMI</td>\n",
       "      <td>True</td>\n",
       "      <td>True</td>\n",
       "      <td>True</td>\n",
       "      <td>True</td>\n",
       "      <td>True</td>\n",
       "      <td>5</td>\n",
       "    </tr>\n",
       "    <tr>\n",
       "      <th>3</th>\n",
       "      <td>AgeCategory</td>\n",
       "      <td>True</td>\n",
       "      <td>True</td>\n",
       "      <td>True</td>\n",
       "      <td>True</td>\n",
       "      <td>True</td>\n",
       "      <td>5</td>\n",
       "    </tr>\n",
       "    <tr>\n",
       "      <th>4</th>\n",
       "      <td>Stroke</td>\n",
       "      <td>False</td>\n",
       "      <td>True</td>\n",
       "      <td>True</td>\n",
       "      <td>True</td>\n",
       "      <td>True</td>\n",
       "      <td>4</td>\n",
       "    </tr>\n",
       "    <tr>\n",
       "      <th>5</th>\n",
       "      <td>Sex</td>\n",
       "      <td>False</td>\n",
       "      <td>True</td>\n",
       "      <td>True</td>\n",
       "      <td>True</td>\n",
       "      <td>True</td>\n",
       "      <td>4</td>\n",
       "    </tr>\n",
       "    <tr>\n",
       "      <th>6</th>\n",
       "      <td>PhysicalHealth</td>\n",
       "      <td>True</td>\n",
       "      <td>False</td>\n",
       "      <td>True</td>\n",
       "      <td>True</td>\n",
       "      <td>True</td>\n",
       "      <td>4</td>\n",
       "    </tr>\n",
       "    <tr>\n",
       "      <th>7</th>\n",
       "      <td>MentalHealth</td>\n",
       "      <td>True</td>\n",
       "      <td>False</td>\n",
       "      <td>True</td>\n",
       "      <td>True</td>\n",
       "      <td>True</td>\n",
       "      <td>4</td>\n",
       "    </tr>\n",
       "    <tr>\n",
       "      <th>8</th>\n",
       "      <td>Diabetic</td>\n",
       "      <td>False</td>\n",
       "      <td>True</td>\n",
       "      <td>True</td>\n",
       "      <td>True</td>\n",
       "      <td>True</td>\n",
       "      <td>4</td>\n",
       "    </tr>\n",
       "    <tr>\n",
       "      <th>9</th>\n",
       "      <td>Smoking</td>\n",
       "      <td>False</td>\n",
       "      <td>False</td>\n",
       "      <td>True</td>\n",
       "      <td>True</td>\n",
       "      <td>True</td>\n",
       "      <td>3</td>\n",
       "    </tr>\n",
       "    <tr>\n",
       "      <th>10</th>\n",
       "      <td>SkinCancer</td>\n",
       "      <td>False</td>\n",
       "      <td>False</td>\n",
       "      <td>True</td>\n",
       "      <td>True</td>\n",
       "      <td>True</td>\n",
       "      <td>3</td>\n",
       "    </tr>\n",
       "    <tr>\n",
       "      <th>11</th>\n",
       "      <td>Race</td>\n",
       "      <td>False</td>\n",
       "      <td>False</td>\n",
       "      <td>True</td>\n",
       "      <td>True</td>\n",
       "      <td>True</td>\n",
       "      <td>3</td>\n",
       "    </tr>\n",
       "    <tr>\n",
       "      <th>12</th>\n",
       "      <td>PhysicalActivity</td>\n",
       "      <td>False</td>\n",
       "      <td>False</td>\n",
       "      <td>True</td>\n",
       "      <td>True</td>\n",
       "      <td>True</td>\n",
       "      <td>3</td>\n",
       "    </tr>\n",
       "    <tr>\n",
       "      <th>13</th>\n",
       "      <td>KidneyDisease</td>\n",
       "      <td>False</td>\n",
       "      <td>False</td>\n",
       "      <td>True</td>\n",
       "      <td>True</td>\n",
       "      <td>True</td>\n",
       "      <td>3</td>\n",
       "    </tr>\n",
       "    <tr>\n",
       "      <th>14</th>\n",
       "      <td>GenHealth</td>\n",
       "      <td>False</td>\n",
       "      <td>False</td>\n",
       "      <td>True</td>\n",
       "      <td>True</td>\n",
       "      <td>True</td>\n",
       "      <td>3</td>\n",
       "    </tr>\n",
       "    <tr>\n",
       "      <th>15</th>\n",
       "      <td>DiffWalking</td>\n",
       "      <td>False</td>\n",
       "      <td>False</td>\n",
       "      <td>True</td>\n",
       "      <td>True</td>\n",
       "      <td>True</td>\n",
       "      <td>3</td>\n",
       "    </tr>\n",
       "    <tr>\n",
       "      <th>16</th>\n",
       "      <td>Asthma</td>\n",
       "      <td>False</td>\n",
       "      <td>False</td>\n",
       "      <td>True</td>\n",
       "      <td>True</td>\n",
       "      <td>True</td>\n",
       "      <td>3</td>\n",
       "    </tr>\n",
       "    <tr>\n",
       "      <th>17</th>\n",
       "      <td>AlcoholDrinking</td>\n",
       "      <td>False</td>\n",
       "      <td>False</td>\n",
       "      <td>True</td>\n",
       "      <td>True</td>\n",
       "      <td>True</td>\n",
       "      <td>3</td>\n",
       "    </tr>\n",
       "  </tbody>\n",
       "</table>\n",
       "</div>"
      ],
      "text/plain": [
       "             Feature  Random Forest  Logistic  Chi-2  Pearson   RFE  Total\n",
       "1          SleepTime           True      True   True     True  True      5\n",
       "2                BMI           True      True   True     True  True      5\n",
       "3        AgeCategory           True      True   True     True  True      5\n",
       "4             Stroke          False      True   True     True  True      4\n",
       "5                Sex          False      True   True     True  True      4\n",
       "6     PhysicalHealth           True     False   True     True  True      4\n",
       "7       MentalHealth           True     False   True     True  True      4\n",
       "8           Diabetic          False      True   True     True  True      4\n",
       "9            Smoking          False     False   True     True  True      3\n",
       "10        SkinCancer          False     False   True     True  True      3\n",
       "11              Race          False     False   True     True  True      3\n",
       "12  PhysicalActivity          False     False   True     True  True      3\n",
       "13     KidneyDisease          False     False   True     True  True      3\n",
       "14         GenHealth          False     False   True     True  True      3\n",
       "15       DiffWalking          False     False   True     True  True      3\n",
       "16            Asthma          False     False   True     True  True      3\n",
       "17   AlcoholDrinking          False     False   True     True  True      3"
      ]
     },
     "execution_count": 102,
     "metadata": {},
     "output_type": "execute_result"
    }
   ],
   "source": [
    "feature_selection_df = pd.DataFrame({'Feature': feature_name,\n",
    "                                     'Random Forest': embeded_rf_support,\n",
    "                                     'Logistic': embeded_lr_support,\n",
    "                                     'Chi-2': chi_support,\n",
    "                                     'Pearson': cor_support,\n",
    "                                     'RFE': rfe_support})\n",
    "# count the selected times for each feature\n",
    "feature_selection_df['Total'] = np.sum(feature_selection_df, axis=1)\n",
    "feature_selection_df = feature_selection_df.sort_values(\n",
    "                                    ['Total', 'Feature'], ascending=False)\n",
    "feature_selection_df.index = range(1, len(feature_selection_df)+1)\n",
    "feature_selection_df.head(max_feats)"
   ]
  },
  {
   "cell_type": "code",
   "execution_count": 103,
   "id": "aa7ddb21-9572-4d90-b069-4d91a7ddc615",
   "metadata": {},
   "outputs": [],
   "source": [
    "features = feature_selection_df[feature_selection_df['Total'] > 4]['Feature']"
   ]
  },
  {
   "cell_type": "code",
   "execution_count": 104,
   "id": "843bf02c-540d-4df3-a1c4-c597a1c38e9d",
   "metadata": {},
   "outputs": [],
   "source": [
    "X_train = X_train[features]\n",
    "X_test = X_test[features]"
   ]
  },
  {
   "cell_type": "markdown",
   "id": "c8a57311-e56e-4047-8f45-7889f5eaf7ae",
   "metadata": {},
   "source": [
    "## Models "
   ]
  },
  {
   "cell_type": "code",
   "execution_count": 105,
   "id": "bd13bd8f-f54c-48a8-92a0-3d3975f0e914",
   "metadata": {},
   "outputs": [],
   "source": [
    "def evaluate_model(model, x_test, y_test):\n",
    "    # Predict Test Data\n",
    "    y_pred = model.predict(x_test)\n",
    "\n",
    "    # Calculate accuracy, precision, recall, f1-score, and kappa score\n",
    "    acc = metrics.accuracy_score(y_test, y_pred)\n",
    "    prec = metrics.precision_score(y_test, y_pred)\n",
    "    rec = metrics.recall_score(y_test, y_pred)\n",
    "    f1 = metrics.f1_score(y_test, y_pred)\n",
    "    kappa = metrics.cohen_kappa_score(y_test, y_pred)\n",
    "\n",
    "    # Calculate area under curve (AUC)\n",
    "    y_pred_proba = model.predict_proba(x_test)[::,1]\n",
    "    fpr, tpr, _ = metrics.roc_curve(y_test, y_pred_proba)\n",
    "    auc = metrics.roc_auc_score(y_test, y_pred_proba)\n",
    "\n",
    "    # Display confussion matrix\n",
    "    cm = metrics.confusion_matrix(y_test, y_pred)\n",
    "\n",
    "    return {'acc': acc, 'prec': prec, 'rec': rec, 'f1': f1, 'kappa': kappa, \n",
    "            'fpr': fpr, 'tpr': tpr, 'auc': auc, 'cm': cm}"
   ]
  },
  {
   "cell_type": "markdown",
   "id": "42313766-9f58-40cf-981a-0ef7063027e2",
   "metadata": {},
   "source": [
    "### Decision Tree "
   ]
  },
  {
   "cell_type": "code",
   "execution_count": 106,
   "id": "9821ec61-ed04-499b-9880-6cfed39c3bb2",
   "metadata": {},
   "outputs": [
    {
     "name": "stdout",
     "output_type": "stream",
     "text": [
      "Accuracy: 0.8973618653519424\n",
      "Precision: 0.1908831908831909\n",
      "Recall: 0.06608309702872642\n",
      "F1 Score: 0.09817748878102389\n",
      "Cohens Kappa Score: 0.05718049561880856\n",
      "Area Under Curve: 0.6106485151453851\n",
      "Confusion Matrix:\n",
      " [[85556  2272]\n",
      " [ 7575   536]]\n"
     ]
    }
   ],
   "source": [
    "clf = DecisionTreeClassifier()\n",
    "\n",
    "# Train\n",
    "clf.fit(X_train, y_train)\n",
    "\n",
    "# Store all of the revelant evaluation metrics\n",
    "clf_result = evaluate_model(clf, X_test, y_test)\n",
    "\n",
    "# Some of the evaluation metrics\n",
    "print('Accuracy:', clf_result['acc'])\n",
    "print('Precision:', clf_result['prec'])\n",
    "print('Recall:', clf_result['rec'])\n",
    "print('F1 Score:', clf_result['f1'])\n",
    "print('Cohens Kappa Score:', clf_result['kappa'])\n",
    "print('Area Under Curve:', clf_result['auc'])\n",
    "print('Confusion Matrix:\\n', clf_result['cm'])"
   ]
  },
  {
   "cell_type": "markdown",
   "id": "9e8807fb-fbe8-41c6-b482-8e51bb95a581",
   "metadata": {},
   "source": [
    "### Naive Bayes Classifier"
   ]
  },
  {
   "cell_type": "code",
   "execution_count": 107,
   "id": "9664b790-18fb-433e-a896-12756448eb91",
   "metadata": {},
   "outputs": [
    {
     "name": "stdout",
     "output_type": "stream",
     "text": [
      "Accuracy: 0.9096613473144394\n",
      "Precision: 0.21862348178137653\n",
      "Recall: 0.026630501787695722\n",
      "F1 Score: 0.04747774480712166\n",
      "Cohens Kappa Score: 0.029662353310315748\n",
      "Area Under Curve: 0.7613758684657895\n",
      "Confusion Matrix:\n",
      " [[87056   772]\n",
      " [ 7895   216]]\n"
     ]
    }
   ],
   "source": [
    "gnb = GaussianNB()\n",
    "gnb.fit(X_train, y_train)\n",
    "gnb_result = evaluate_model(gnb, X_test, y_test)\n",
    "\n",
    "print(\"Accuracy:\", gnb_result['acc'])\n",
    "print('Precision:', gnb_result['prec'])\n",
    "print('Recall:', gnb_result['rec'])\n",
    "print('F1 Score:', gnb_result['f1'])\n",
    "print('Cohens Kappa Score:', gnb_result['kappa'])\n",
    "print('Area Under Curve:', gnb_result['auc'])\n",
    "print('Confusion Matrix:\\n', gnb_result['cm'])"
   ]
  },
  {
   "cell_type": "markdown",
   "id": "a8fb49e7-1f80-44ce-8827-1a0480a380ca",
   "metadata": {},
   "source": [
    "### Logistic Regression"
   ]
  },
  {
   "cell_type": "code",
   "execution_count": 108,
   "id": "62f0a3a0-8c01-44fd-b8ef-7ff73425f039",
   "metadata": {},
   "outputs": [
    {
     "name": "stdout",
     "output_type": "stream",
     "text": [
      "Accuracy: 0.9153837334139401\n",
      "Precision: 0.23076923076923078\n",
      "Recall: 0.0003698680803846628\n",
      "F1 Score: 0.0007385524372230429\n",
      "Cohens Kappa Score: 0.0004681072213331694\n",
      "Area Under Curve: 0.7571961923908538\n",
      "Confusion Matrix:\n",
      " [[87818    10]\n",
      " [ 8108     3]]\n"
     ]
    }
   ],
   "source": [
    "logreg = LogisticRegression(random_state=0)\n",
    "logreg.fit(X_train, y_train)\n",
    "logreg_result = evaluate_model(logreg, X_test, y_test)\n",
    "\n",
    "print(\"Accuracy:\", logreg_result['acc'])\n",
    "print('Precision:', logreg_result['prec'])\n",
    "print('Recall:', logreg_result['rec'])\n",
    "print('F1 Score:', logreg_result['f1'])\n",
    "print('Cohens Kappa Score:', logreg_result['kappa'])\n",
    "print('Area Under Curve:', logreg_result['auc'])\n",
    "print('Confusion Matrix:\\n', logreg_result['cm'])"
   ]
  },
  {
   "cell_type": "markdown",
   "id": "d86f9a06-0c06-45aa-a25e-355d93d77103",
   "metadata": {},
   "source": [
    "### Gradient Boosting Classifier"
   ]
  },
  {
   "cell_type": "code",
   "execution_count": 109,
   "id": "0fafec7c-ad77-4473-a52c-76f1b9339117",
   "metadata": {},
   "outputs": [
    {
     "name": "stdout",
     "output_type": "stream",
     "text": [
      "Accuracy: 0.9154150032833362\n",
      "Precision: 0.0\n",
      "Recall: 0.0\n",
      "F1 Score: 0.0\n",
      "Cohens Kappa Score: -8.335216308030802e-05\n",
      "Area Under Curve: 0.767509673458834\n",
      "Confusion Matrix:\n",
      " [[87824     4]\n",
      " [ 8111     0]]\n"
     ]
    }
   ],
   "source": [
    "gbc = GradientBoostingClassifier()\n",
    "gbc.fit(X_train, y_train)\n",
    "gbc_result = evaluate_model(gbc, X_test, y_test)\n",
    "\n",
    "print(\"Accuracy:\", gbc_result['acc'])\n",
    "print('Precision:', gbc_result['prec'])\n",
    "print('Recall:', gbc_result['rec'])\n",
    "print('F1 Score:', gbc_result['f1'])\n",
    "print('Cohens Kappa Score:', gbc_result['kappa'])\n",
    "print('Area Under Curve:', gbc_result['auc'])\n",
    "print('Confusion Matrix:\\n', gbc_result['cm'])"
   ]
  },
  {
   "cell_type": "markdown",
   "id": "e82114fd-ce71-4481-af26-be55e5eb6ca2",
   "metadata": {
    "tags": []
   },
   "source": [
    "## Comparison "
   ]
  },
  {
   "cell_type": "code",
   "execution_count": 110,
   "id": "269fdf76-cb1d-4652-a448-0fa4bc2da32f",
   "metadata": {},
   "outputs": [
    {
     "data": {
      "image/png": "[encoded data removed]",
      "text/plain": [
       "<Figure size 1440x720 with 1 Axes>"
      ]
     },
     "metadata": {
      "needs_background": "light"
     },
     "output_type": "display_data"
    }
   ],
   "source": [
    "# Intitialize figure with two plots\n",
    "fig = plt.figure(figsize=(20, 10))\n",
    "plt.title('Model Comparison', fontsize=14, fontweight='bold')\n",
    "\n",
    "# first plot\n",
    "barWidth = 0.2\n",
    "clf_score = [clf_result['acc'], clf_result['prec'], clf_result['rec'],\n",
    "             clf_result['f1'], clf_result['kappa']]\n",
    "gnb_score = [gnb_result['acc'], gnb_result['prec'], gnb_result['rec'],\n",
    "             gnb_result['f1'], gnb_result['kappa']]\n",
    "logreg_score = [logreg_result['acc'], logreg_result['prec'],\n",
    "                logreg_result['rec'], logreg_result['f1'], logreg_result['kappa']]\n",
    "gbc_score = [gbc_result['acc'], gbc_result['prec'], gbc_result['rec'],\n",
    "             gbc_result['f1'], gbc_result['kappa']]\n",
    "\n",
    "# Set position of bar on X axis\n",
    "br1 = np.arange(len(clf_score))\n",
    "br2 = [x + barWidth for x in br1]\n",
    "br3 = [x + barWidth for x in br2]\n",
    "br4 = [x + barWidth for x in br3]\n",
    "\n",
    "# Make the plot\n",
    "\n",
    "plt.bar(br1, clf_score, width=barWidth, edgecolor='white', \n",
    "        label='Decision Tree')\n",
    "plt.bar(br2, gnb_score, width=barWidth, edgecolor='white',\n",
    "        label='Gaussian Naive Bayes')\n",
    "plt.bar(br3, logreg_score, width=barWidth, edgecolor='white',\n",
    "        label='Logistic Regression')\n",
    "plt.bar(br4, gbc_score, width=barWidth, edgecolor='white',\n",
    "        label='Gradient Boosting')\n",
    "\n",
    "# Configure x and y axis\n",
    "plt.xlabel('Metrics', fontweight='bold')\n",
    "plt.xticks([r + (barWidth*1.5) for r in range(len(clf_score))],\n",
    "           ['Accuracy', 'Precision', 'Recall', 'F1', 'Kappa'])\n",
    "plt.ylabel('Score', fontweight='bold')\n",
    "plt.ylim(0, 1)\n",
    "plt.legend()\n",
    "plt.savefig('figures/model_comparison.png')\n"
   ]
  },
  {
   "cell_type": "code",
   "execution_count": 111,
   "id": "e1347d08-56f8-4922-a631-a284929394d3",
   "metadata": {},
   "outputs": [
    {
     "data": {
      "image/png": "[encoded data removed]",
      "text/plain": [
       "<Figure size 432x288 with 1 Axes>"
      ]
     },
     "metadata": {
      "needs_background": "light"
     },
     "output_type": "display_data"
    }
   ],
   "source": [
    "# Comparing ROC Curve\n",
    "plt.plot(clf_result['fpr'], clf_result['tpr'],\n",
    "         label='Decision Tree, auc={: 0.5f}'.format(clf_result['auc']))\n",
    "plt.plot(gnb_result['fpr'], gnb_result['tpr'],\n",
    "         label='Gaussian Naive Bayes, auc={: 0.5f}'.format(gnb_result['auc']))\n",
    "plt.plot(logreg_result['fpr'], logreg_result['tpr'],\n",
    "         label='Logistic Regression, auc={: 0.5f}'.format(logreg_result['auc']))\n",
    "plt.plot(gbc_result['fpr'], gbc_result['tpr'],\n",
    "         label='Gradient Boosting, auc={: 0.5f}'.format(gbc_result['auc']))\n",
    "\n",
    "# Configure x and y axis\n",
    "plt.xlabel('False Positive Rate', fontweight='bold')\n",
    "plt.ylabel('True Positive Rate', fontweight='bold')\n",
    "\n",
    "# Create legend & title\n",
    "plt.title('ROC Curve', fontsize=14, fontweight='bold')\n",
    "plt.legend()\n",
    "plt.savefig('figures/roc_curve.png')\n",
    "plt.show()"
   ]
  }
 ],
 "metadata": {
  "kernelspec": {
   "display_name": "Python 3 (ipykernel)",
   "language": "python",
   "name": "python3"
  },
  "language_info": {
   "codemirror_mode": {
    "name": "ipython",
    "version": 3
   },
   "file_extension": ".py",
   "mimetype": "text/x-python",
   "name": "python",
   "nbconvert_exporter": "python",
   "pygments_lexer": "ipython3",
   "version": "3.9.9"
  },
  "toc-autonumbering": false,
  "toc-showtags": false
 },
 "nbformat": 4,
 "nbformat_minor": 5
}
